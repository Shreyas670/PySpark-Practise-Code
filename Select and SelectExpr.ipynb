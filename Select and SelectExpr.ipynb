{
 "cells": [
  {
   "cell_type": "markdown",
   "id": "b1c6ca15",
   "metadata": {},
   "source": [
    "# Select() Function\n",
    "select() is a transformation function that returns a new DataFrame with the desired columns as specified in the inputs. It accepts a single argument columns that can be list of string, list of column objects, * or list comprehension."
   ]
  },
  {
   "cell_type": "code",
   "execution_count": 2,
   "id": "5edb09d1",
   "metadata": {},
   "outputs": [],
   "source": [
    "import findspark\n",
    "findspark.init()\n",
    "\n",
    "from pyspark.sql import SparkSession\n",
    "\n",
    "spark=SparkSession.builder.appName(\"DD\").master(\"local[*]\").getOrCreate()"
   ]
  },
  {
   "cell_type": "code",
   "execution_count": 3,
   "id": "ec616568",
   "metadata": {},
   "outputs": [
    {
     "name": "stdout",
     "output_type": "stream",
     "text": [
      "+---+-------+---+\n",
      "| Id|   Name|Age|\n",
      "+---+-------+---+\n",
      "|  1|Shreyas| 24|\n",
      "+---+-------+---+\n",
      "\n",
      "+---+---+\n",
      "| Id|Age|\n",
      "+---+---+\n",
      "|  1| 24|\n",
      "+---+---+\n",
      "\n",
      "+---+---+\n",
      "| Id|Age|\n",
      "+---+---+\n",
      "|  1| 24|\n",
      "+---+---+\n",
      "\n",
      "+---+---+\n",
      "| Id|Age|\n",
      "+---+---+\n",
      "|  1| 24|\n",
      "+---+---+\n",
      "\n"
     ]
    }
   ],
   "source": [
    "data=[(1,\"Shreyas\",24)]\n",
    "schema=[\"Id\",\"Name\",\"Age\"]\n",
    "df=spark.createDataFrame(data,schema)\n",
    "df.show()\n",
    "\n",
    "df.select(\"Id\",\"Age\").show() # we can mention them within quotes\n",
    "df.select(df.Id,df.Age).show() # we can mention them as dataframe.colname\n",
    "df.select(df['Id'],df['Age']).show() # we can also use column indexing of the dataframe"
   ]
  },
  {
   "cell_type": "code",
   "execution_count": 4,
   "id": "cb1ae94e",
   "metadata": {},
   "outputs": [
    {
     "name": "stdout",
     "output_type": "stream",
     "text": [
      "+---+-------+\n",
      "| ID|   Name|\n",
      "+---+-------+\n",
      "|  1|Shreyas|\n",
      "+---+-------+\n",
      "\n",
      "+---+-------+\n",
      "| Id|   Name|\n",
      "+---+-------+\n",
      "|  1|Shreyas|\n",
      "+---+-------+\n",
      "\n",
      "+---+-------+---+\n",
      "| Id|   Name|Age|\n",
      "+---+-------+---+\n",
      "|  1|Shreyas| 24|\n",
      "+---+-------+---+\n",
      "\n",
      "+---+-------+---+\n",
      "| Id|   Name|Age|\n",
      "+---+-------+---+\n",
      "|  1|Shreyas| 24|\n",
      "+---+-------+---+\n",
      "\n"
     ]
    }
   ],
   "source": [
    "# we can also use col object from SQL.functions\n",
    "from pyspark.sql.functions import col\n",
    "df.select(col(\"ID\"),col(\"Name\")).show()\n",
    "\n",
    "#We can also mention column name as a list inside select\n",
    "df.select([\"Id\",\"Name\"]).show()\n",
    "\n",
    "#To select all the column we can use below two methods\n",
    "df.select(\"*\").show()\n",
    "df.select([col for col in df.columns]).show() # df.columns will return a list of all the columns in that dataframe"
   ]
  },
  {
   "cell_type": "code",
   "execution_count": null,
   "id": "cb353955",
   "metadata": {},
   "outputs": [],
   "source": [
    "#Now lets talk about selectexpr\n",
    "#Spark SQL function selectExpr() is similar to select(), the difference being it takes a set of SQL expressions in a string to execute. This gives an ability to run SQL like expressions without creating a temporary table and views.\n",
    "\n",
    "# consider we have to use an alias name while selecting a column. We can do it using expr\n",
    "from pyspark.sql.functions import expr\n",
    "df.select(expr(\"Id as Identity\"),\"Name\").show()\n",
    "\n",
    "#However SparkSQL provides with SelectExpr function which will take a string as input.\n",
    "df.selectExpr(\"Id as Identity\",\"Name\").show()\n",
    "\n",
    "#This selectExpr is not only used for this , but also for complex SQL like operations to be performed on the dataframe.\n",
    "df.selectExpr(\"Age+100 as New_Age\").show() # we can see that now age is added by 10. Similarly whatever we can perform in SQL select can be performed here, such as count, sum, etc.\n",
    "\n",
    "df.selectExpr(\"Sum(Age)\",\"Max(Age)\").show()"
   ]
  },
  {
   "cell_type": "code",
   "execution_count": null,
   "id": "f35c0b14",
   "metadata": {},
   "outputs": [],
   "source": [
    "Basically selectExpr will take string values as input and these strings can be SQL"
   ]
  }
 ],
 "metadata": {
  "kernelspec": {
   "display_name": "Python 3 (ipykernel)",
   "language": "python",
   "name": "python3"
  },
  "language_info": {
   "codemirror_mode": {
    "name": "ipython",
    "version": 3
   },
   "file_extension": ".py",
   "mimetype": "text/x-python",
   "name": "python",
   "nbconvert_exporter": "python",
   "pygments_lexer": "ipython3",
   "version": "3.11.5"
  }
 },
 "nbformat": 4,
 "nbformat_minor": 5
}
