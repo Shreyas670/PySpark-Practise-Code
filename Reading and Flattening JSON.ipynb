{
 "cells": [
  {
   "cell_type": "code",
   "execution_count": 1,
   "id": "457f30b5",
   "metadata": {},
   "outputs": [],
   "source": [
    "import findspark\n",
    "findspark.init()\n",
    "\n",
    "from pyspark.sql import SparkSession\n",
    "spark = SparkSession.builder.appName('json').master('local[*]').getOrCreate()"
   ]
  },
  {
   "cell_type": "code",
   "execution_count": 2,
   "id": "ad0d004e",
   "metadata": {},
   "outputs": [],
   "source": [
    "df = spark.read.format('json').option('multiLine','true').option('inferSchema','true').load('resturant_json_data.json')"
   ]
  },
  {
   "cell_type": "code",
   "execution_count": 3,
   "id": "202b5602",
   "metadata": {},
   "outputs": [
    {
     "name": "stdout",
     "output_type": "stream",
     "text": [
      "+----+-------+--------------------+-------------+-------------+-------------+------+\n",
      "|code|message|         restaurants|results_found|results_shown|results_start|status|\n",
      "+----+-------+--------------------+-------------+-------------+-------------+------+\n",
      "|NULL|   NULL|                  []|            0|            0|            1|  NULL|\n",
      "|NULL|   NULL|[{{{17066603}, b9...|         6835|           20|            1|  NULL|\n",
      "|NULL|   NULL|                  []|            0|            0|            1|  NULL|\n",
      "|NULL|   NULL|                  []|            0|            0|            1|  NULL|\n",
      "|NULL|   NULL|[{{{17093124}, b9...|         8680|           20|            1|  NULL|\n",
      "|NULL|   NULL|                  []|            0|            0|            1|  NULL|\n",
      "|NULL|   NULL|                  []|            0|            0|            1|  NULL|\n",
      "|NULL|   NULL|[{{{17580142}, b9...|          943|           20|            1|  NULL|\n",
      "|NULL|   NULL|                  []|            0|            0|            1|  NULL|\n",
      "|NULL|   NULL|                  []|            0|            0|            1|  NULL|\n",
      "|NULL|   NULL|[{{{17284158}, b9...|          257|           20|            1|  NULL|\n",
      "|NULL|   NULL|                  []|            0|            0|            1|  NULL|\n",
      "|NULL|   NULL|                  []|            0|            0|            1|  NULL|\n",
      "|NULL|   NULL|[{{{17678233}, b9...|          358|           20|            1|  NULL|\n",
      "|NULL|   NULL|                  []|            0|            0|            1|  NULL|\n",
      "|NULL|   NULL|                  []|            0|            0|            1|  NULL|\n",
      "|NULL|   NULL|[{{{17375047}, b9...|          641|           20|            1|  NULL|\n",
      "|NULL|   NULL|                  []|            0|            0|            1|  NULL|\n",
      "|NULL|   NULL|                  []|            0|            0|            1|  NULL|\n",
      "|NULL|   NULL|[{{{17616590}, b9...|         1613|           20|            1|  NULL|\n",
      "+----+-------+--------------------+-------------+-------------+-------------+------+\n",
      "only showing top 20 rows\n",
      "\n"
     ]
    }
   ],
   "source": [
    "df.show()"
   ]
  },
  {
   "cell_type": "code",
   "execution_count": 4,
   "id": "70113d09",
   "metadata": {},
   "outputs": [
    {
     "name": "stdout",
     "output_type": "stream",
     "text": [
      "root\n",
      " |-- code: long (nullable = true)\n",
      " |-- message: string (nullable = true)\n",
      " |-- restaurants: array (nullable = true)\n",
      " |    |-- element: struct (containsNull = true)\n",
      " |    |    |-- restaurant: struct (nullable = true)\n",
      " |    |    |    |-- R: struct (nullable = true)\n",
      " |    |    |    |    |-- res_id: long (nullable = true)\n",
      " |    |    |    |-- apikey: string (nullable = true)\n",
      " |    |    |    |-- average_cost_for_two: long (nullable = true)\n",
      " |    |    |    |-- cuisines: string (nullable = true)\n",
      " |    |    |    |-- currency: string (nullable = true)\n",
      " |    |    |    |-- deeplink: string (nullable = true)\n",
      " |    |    |    |-- establishment_types: array (nullable = true)\n",
      " |    |    |    |    |-- element: string (containsNull = true)\n",
      " |    |    |    |-- events_url: string (nullable = true)\n",
      " |    |    |    |-- featured_image: string (nullable = true)\n",
      " |    |    |    |-- has_online_delivery: long (nullable = true)\n",
      " |    |    |    |-- has_table_booking: long (nullable = true)\n",
      " |    |    |    |-- id: string (nullable = true)\n",
      " |    |    |    |-- is_delivering_now: long (nullable = true)\n",
      " |    |    |    |-- location: struct (nullable = true)\n",
      " |    |    |    |    |-- address: string (nullable = true)\n",
      " |    |    |    |    |-- city: string (nullable = true)\n",
      " |    |    |    |    |-- city_id: long (nullable = true)\n",
      " |    |    |    |    |-- country_id: long (nullable = true)\n",
      " |    |    |    |    |-- latitude: string (nullable = true)\n",
      " |    |    |    |    |-- locality: string (nullable = true)\n",
      " |    |    |    |    |-- locality_verbose: string (nullable = true)\n",
      " |    |    |    |    |-- longitude: string (nullable = true)\n",
      " |    |    |    |    |-- zipcode: string (nullable = true)\n",
      " |    |    |    |-- menu_url: string (nullable = true)\n",
      " |    |    |    |-- name: string (nullable = true)\n",
      " |    |    |    |-- offers: array (nullable = true)\n",
      " |    |    |    |    |-- element: string (containsNull = true)\n",
      " |    |    |    |-- photos_url: string (nullable = true)\n",
      " |    |    |    |-- price_range: long (nullable = true)\n",
      " |    |    |    |-- switch_to_order_menu: long (nullable = true)\n",
      " |    |    |    |-- thumb: string (nullable = true)\n",
      " |    |    |    |-- url: string (nullable = true)\n",
      " |    |    |    |-- user_rating: struct (nullable = true)\n",
      " |    |    |    |    |-- aggregate_rating: string (nullable = true)\n",
      " |    |    |    |    |-- rating_color: string (nullable = true)\n",
      " |    |    |    |    |-- rating_text: string (nullable = true)\n",
      " |    |    |    |    |-- votes: string (nullable = true)\n",
      " |-- results_found: long (nullable = true)\n",
      " |-- results_shown: long (nullable = true)\n",
      " |-- results_start: string (nullable = true)\n",
      " |-- status: string (nullable = true)\n",
      "\n"
     ]
    }
   ],
   "source": [
    "df.printSchema()"
   ]
  },
  {
   "cell_type": "code",
   "execution_count": 8,
   "id": "48a9d357",
   "metadata": {},
   "outputs": [
    {
     "name": "stdout",
     "output_type": "stream",
     "text": [
      "root\n",
      " |-- code: long (nullable = true)\n",
      " |-- message: string (nullable = true)\n",
      " |-- results_found: long (nullable = true)\n",
      " |-- results_shown: long (nullable = true)\n",
      " |-- results_start: string (nullable = true)\n",
      " |-- status: string (nullable = true)\n",
      " |-- new_restuarants: struct (nullable = true)\n",
      " |    |-- restaurant: struct (nullable = true)\n",
      " |    |    |-- R: struct (nullable = true)\n",
      " |    |    |    |-- res_id: long (nullable = true)\n",
      " |    |    |-- apikey: string (nullable = true)\n",
      " |    |    |-- average_cost_for_two: long (nullable = true)\n",
      " |    |    |-- cuisines: string (nullable = true)\n",
      " |    |    |-- currency: string (nullable = true)\n",
      " |    |    |-- deeplink: string (nullable = true)\n",
      " |    |    |-- establishment_types: array (nullable = true)\n",
      " |    |    |    |-- element: string (containsNull = true)\n",
      " |    |    |-- events_url: string (nullable = true)\n",
      " |    |    |-- featured_image: string (nullable = true)\n",
      " |    |    |-- has_online_delivery: long (nullable = true)\n",
      " |    |    |-- has_table_booking: long (nullable = true)\n",
      " |    |    |-- id: string (nullable = true)\n",
      " |    |    |-- is_delivering_now: long (nullable = true)\n",
      " |    |    |-- location: struct (nullable = true)\n",
      " |    |    |    |-- address: string (nullable = true)\n",
      " |    |    |    |-- city: string (nullable = true)\n",
      " |    |    |    |-- city_id: long (nullable = true)\n",
      " |    |    |    |-- country_id: long (nullable = true)\n",
      " |    |    |    |-- latitude: string (nullable = true)\n",
      " |    |    |    |-- locality: string (nullable = true)\n",
      " |    |    |    |-- locality_verbose: string (nullable = true)\n",
      " |    |    |    |-- longitude: string (nullable = true)\n",
      " |    |    |    |-- zipcode: string (nullable = true)\n",
      " |    |    |-- menu_url: string (nullable = true)\n",
      " |    |    |-- name: string (nullable = true)\n",
      " |    |    |-- offers: array (nullable = true)\n",
      " |    |    |    |-- element: string (containsNull = true)\n",
      " |    |    |-- photos_url: string (nullable = true)\n",
      " |    |    |-- price_range: long (nullable = true)\n",
      " |    |    |-- switch_to_order_menu: long (nullable = true)\n",
      " |    |    |-- thumb: string (nullable = true)\n",
      " |    |    |-- url: string (nullable = true)\n",
      " |    |    |-- user_rating: struct (nullable = true)\n",
      " |    |    |    |-- aggregate_rating: string (nullable = true)\n",
      " |    |    |    |-- rating_color: string (nullable = true)\n",
      " |    |    |    |-- rating_text: string (nullable = true)\n",
      " |    |    |    |-- votes: string (nullable = true)\n",
      "\n"
     ]
    }
   ],
   "source": [
    "# we can see that restaurants is ArrayType, lets try to flatten it using explode.\n",
    "from pyspark.sql.functions import explode\n",
    "df1 = df.withColumn('new_restuarants',explode(df.restaurants)).drop('restaurants')\n",
    "df1.printSchema()"
   ]
  },
  {
   "cell_type": "code",
   "execution_count": 15,
   "id": "cebb9843",
   "metadata": {},
   "outputs": [],
   "source": [
    "#we can see that new_restaurants and the restuarant inside it is same. So we remove one level of nest.\n",
    "df2 = df1.withColumn('Restuarant_Data',df1.new_restuarants['restaurant']).drop(df1.new_restuarants)"
   ]
  },
  {
   "cell_type": "code",
   "execution_count": 17,
   "id": "deedc6af",
   "metadata": {},
   "outputs": [
    {
     "name": "stdout",
     "output_type": "stream",
     "text": [
      "root\n",
      " |-- code: long (nullable = true)\n",
      " |-- message: string (nullable = true)\n",
      " |-- results_found: long (nullable = true)\n",
      " |-- results_shown: long (nullable = true)\n",
      " |-- results_start: string (nullable = true)\n",
      " |-- status: string (nullable = true)\n",
      " |-- Restuarant_Data: struct (nullable = true)\n",
      " |    |-- R: struct (nullable = true)\n",
      " |    |    |-- res_id: long (nullable = true)\n",
      " |    |-- apikey: string (nullable = true)\n",
      " |    |-- average_cost_for_two: long (nullable = true)\n",
      " |    |-- cuisines: string (nullable = true)\n",
      " |    |-- currency: string (nullable = true)\n",
      " |    |-- deeplink: string (nullable = true)\n",
      " |    |-- establishment_types: array (nullable = true)\n",
      " |    |    |-- element: string (containsNull = true)\n",
      " |    |-- events_url: string (nullable = true)\n",
      " |    |-- featured_image: string (nullable = true)\n",
      " |    |-- has_online_delivery: long (nullable = true)\n",
      " |    |-- has_table_booking: long (nullable = true)\n",
      " |    |-- id: string (nullable = true)\n",
      " |    |-- is_delivering_now: long (nullable = true)\n",
      " |    |-- location: struct (nullable = true)\n",
      " |    |    |-- address: string (nullable = true)\n",
      " |    |    |-- city: string (nullable = true)\n",
      " |    |    |-- city_id: long (nullable = true)\n",
      " |    |    |-- country_id: long (nullable = true)\n",
      " |    |    |-- latitude: string (nullable = true)\n",
      " |    |    |-- locality: string (nullable = true)\n",
      " |    |    |-- locality_verbose: string (nullable = true)\n",
      " |    |    |-- longitude: string (nullable = true)\n",
      " |    |    |-- zipcode: string (nullable = true)\n",
      " |    |-- menu_url: string (nullable = true)\n",
      " |    |-- name: string (nullable = true)\n",
      " |    |-- offers: array (nullable = true)\n",
      " |    |    |-- element: string (containsNull = true)\n",
      " |    |-- photos_url: string (nullable = true)\n",
      " |    |-- price_range: long (nullable = true)\n",
      " |    |-- switch_to_order_menu: long (nullable = true)\n",
      " |    |-- thumb: string (nullable = true)\n",
      " |    |-- url: string (nullable = true)\n",
      " |    |-- user_rating: struct (nullable = true)\n",
      " |    |    |-- aggregate_rating: string (nullable = true)\n",
      " |    |    |-- rating_color: string (nullable = true)\n",
      " |    |    |-- rating_text: string (nullable = true)\n",
      " |    |    |-- votes: string (nullable = true)\n",
      "\n"
     ]
    }
   ],
   "source": [
    "df2.printSchema()"
   ]
  },
  {
   "cell_type": "code",
   "execution_count": 23,
   "id": "c91af742",
   "metadata": {},
   "outputs": [
    {
     "name": "stdout",
     "output_type": "stream",
     "text": [
      "root\n",
      " |-- R: struct (nullable = true)\n",
      " |    |-- res_id: long (nullable = true)\n",
      " |-- apikey: string (nullable = true)\n",
      " |-- average_cost_for_two: long (nullable = true)\n",
      " |-- cuisines: string (nullable = true)\n",
      " |-- currency: string (nullable = true)\n",
      " |-- deeplink: string (nullable = true)\n",
      " |-- establishment_types: array (nullable = true)\n",
      " |    |-- element: string (containsNull = true)\n",
      " |-- events_url: string (nullable = true)\n",
      " |-- featured_image: string (nullable = true)\n",
      " |-- has_online_delivery: long (nullable = true)\n",
      " |-- has_table_booking: long (nullable = true)\n",
      " |-- id: string (nullable = true)\n",
      " |-- is_delivering_now: long (nullable = true)\n",
      " |-- location: struct (nullable = true)\n",
      " |    |-- address: string (nullable = true)\n",
      " |    |-- city: string (nullable = true)\n",
      " |    |-- city_id: long (nullable = true)\n",
      " |    |-- country_id: long (nullable = true)\n",
      " |    |-- latitude: string (nullable = true)\n",
      " |    |-- locality: string (nullable = true)\n",
      " |    |-- locality_verbose: string (nullable = true)\n",
      " |    |-- longitude: string (nullable = true)\n",
      " |    |-- zipcode: string (nullable = true)\n",
      " |-- menu_url: string (nullable = true)\n",
      " |-- name: string (nullable = true)\n",
      " |-- offers: array (nullable = true)\n",
      " |    |-- element: string (containsNull = true)\n",
      " |-- photos_url: string (nullable = true)\n",
      " |-- price_range: long (nullable = true)\n",
      " |-- switch_to_order_menu: long (nullable = true)\n",
      " |-- thumb: string (nullable = true)\n",
      " |-- url: string (nullable = true)\n",
      " |-- user_rating: struct (nullable = true)\n",
      " |    |-- aggregate_rating: string (nullable = true)\n",
      " |    |-- rating_color: string (nullable = true)\n",
      " |    |-- rating_text: string (nullable = true)\n",
      " |    |-- votes: string (nullable = true)\n",
      "\n"
     ]
    }
   ],
   "source": [
    "res_data = df2.select('Restuarant_Data.*')\n",
    "res_data.printSchema()"
   ]
  },
  {
   "cell_type": "code",
   "execution_count": 35,
   "id": "e25d8ae8",
   "metadata": {},
   "outputs": [],
   "source": [
    "# we can see that there are many nested levels, if we try to flatten everything it will take time.\n",
    "#lets decide on few columns we want and try to get them by flatteing the required complex types\n",
    "# we will need output cols - res_id, currency, has_table_booking, city, country_id, name, aggregate_rating.\n",
    "res_data1 = res_data.select(res_data.R.res_id.alias('Res_ID'),\\\n",
    "                             'name',\\\n",
    "                             'currency',\\\n",
    "                             'has_table_booking',\\\n",
    "                             res_data.location.city.alias('city'),\\\n",
    "                             res_data.location.country_id.alias('country_id'),\\\n",
    "                             res_data.user_rating.aggregate_rating.alias('Rating'),\\\n",
    "                             'offers')\n"
   ]
  },
  {
   "cell_type": "code",
   "execution_count": 36,
   "id": "d4a53621",
   "metadata": {},
   "outputs": [
    {
     "name": "stdout",
     "output_type": "stream",
     "text": [
      "+--------+--------------------+--------+-----------------+-------+----------+------+------+\n",
      "|  Res_ID|                name|currency|has_table_booking|   city|country_id|Rating|offers|\n",
      "+--------+--------------------+--------+-----------------+-------+----------+------+------+\n",
      "|17066603|            The Coop|       $|                0|Orlando|       216|   3.6|    []|\n",
      "|17059541|Maggiano's Little...|       $|                0|Orlando|       216|   4.4|    []|\n",
      "|17064405|Tako Cheena by Po...|       $|                0|Orlando|       216|   4.4|    []|\n",
      "|17057797|Bosphorous Turkis...|       $|                0|Orlando|       216|   4.2|    []|\n",
      "|17057591|Bahama Breeze Isl...|       $|                0|Orlando|       216|   4.3|    []|\n",
      "|17064266|Hawkers Asian Str...|       $|                0|Orlando|       216|   4.6|    []|\n",
      "|17060516|Seasons 52 Fresh ...|       $|                0|Orlando|       216|   4.4|    []|\n",
      "|17060320|Raglan Road Irish...|       $|                0|Orlando|       216|   4.3|    []|\n",
      "|17059060|           Hillstone|       $|                0|Orlando|       216|   4.4|    []|\n",
      "|17059012|Hollerbach's Will...|       $|                0|Orlando|       216|   4.8|    []|\n",
      "|17060869|     Texas de Brazil|       $|                0|Orlando|       216|   4.6|    []|\n",
      "|17061231|    The Ravenous Pig|       $|                0|Orlando|       216|   4.4|    []|\n",
      "|17058534|    Earl of Sandwich|       $|                0|Orlando|       216|   4.7|    []|\n",
      "|17057925|    Café Tu Tu Tango|       $|                0|Orlando|       216|   4.6|    []|\n",
      "|17064031|Tibby's New Orlea...|       $|                0|Orlando|       216|   4.7|    []|\n",
      "|17061237|Cevíche Tapas Bar...|       $|                0|Orlando|       216|   4.4|    []|\n",
      "|17061253| Ethos Vegan Kitchen|       $|                0|Orlando|       216|   4.4|    []|\n",
      "|17061296|Pom Pom's Teahous...|       $|                0|Orlando|       216|   4.9|    []|\n",
      "|17061205|     Yellow Dog Eats|       $|                0|Orlando|       216|   4.9|    []|\n",
      "|17057397|              'Ohana|       $|                0|Orlando|       216|   4.5|    []|\n",
      "+--------+--------------------+--------+-----------------+-------+----------+------+------+\n",
      "only showing top 20 rows\n",
      "\n"
     ]
    }
   ],
   "source": [
    "res_data1.show()"
   ]
  },
  {
   "cell_type": "code",
   "execution_count": 38,
   "id": "b008804c",
   "metadata": {},
   "outputs": [
    {
     "name": "stdout",
     "output_type": "stream",
     "text": [
      "+------+----+--------+-----------------+----+----------+------+------+---+\n",
      "|Res_ID|name|currency|has_table_booking|city|country_id|Rating|offers|col|\n",
      "+------+----+--------+-----------------+----+----------+------+------+---+\n",
      "+------+----+--------+-----------------+----+----------+------+------+---+\n",
      "\n"
     ]
    }
   ],
   "source": [
    "#Note for struct we usually access its fields by using dot and array is usually exploded depening on the data. Else if we want to access a single element indexing is used or getItem().\n",
    "# in our data we still have an array type,lets try to explode that.\n",
    "\n",
    "res_data1.select('*',explode('offers')).show()"
   ]
  },
  {
   "cell_type": "code",
   "execution_count": 40,
   "id": "5c9dc5bf",
   "metadata": {},
   "outputs": [
    {
     "name": "stdout",
     "output_type": "stream",
     "text": [
      "+--------+--------------------+--------+-----------------+-------+----------+------+------+----------------+\n",
      "|  Res_ID|                name|currency|has_table_booking|   city|country_id|Rating|offers|Offers_newcolumn|\n",
      "+--------+--------------------+--------+-----------------+-------+----------+------+------+----------------+\n",
      "|17066603|            The Coop|       $|                0|Orlando|       216|   3.6|    []|            NULL|\n",
      "|17059541|Maggiano's Little...|       $|                0|Orlando|       216|   4.4|    []|            NULL|\n",
      "|17064405|Tako Cheena by Po...|       $|                0|Orlando|       216|   4.4|    []|            NULL|\n",
      "|17057797|Bosphorous Turkis...|       $|                0|Orlando|       216|   4.2|    []|            NULL|\n",
      "|17057591|Bahama Breeze Isl...|       $|                0|Orlando|       216|   4.3|    []|            NULL|\n",
      "|17064266|Hawkers Asian Str...|       $|                0|Orlando|       216|   4.6|    []|            NULL|\n",
      "|17060516|Seasons 52 Fresh ...|       $|                0|Orlando|       216|   4.4|    []|            NULL|\n",
      "|17060320|Raglan Road Irish...|       $|                0|Orlando|       216|   4.3|    []|            NULL|\n",
      "|17059060|           Hillstone|       $|                0|Orlando|       216|   4.4|    []|            NULL|\n",
      "|17059012|Hollerbach's Will...|       $|                0|Orlando|       216|   4.8|    []|            NULL|\n",
      "|17060869|     Texas de Brazil|       $|                0|Orlando|       216|   4.6|    []|            NULL|\n",
      "|17061231|    The Ravenous Pig|       $|                0|Orlando|       216|   4.4|    []|            NULL|\n",
      "|17058534|    Earl of Sandwich|       $|                0|Orlando|       216|   4.7|    []|            NULL|\n",
      "|17057925|    Café Tu Tu Tango|       $|                0|Orlando|       216|   4.6|    []|            NULL|\n",
      "|17064031|Tibby's New Orlea...|       $|                0|Orlando|       216|   4.7|    []|            NULL|\n",
      "|17061237|Cevíche Tapas Bar...|       $|                0|Orlando|       216|   4.4|    []|            NULL|\n",
      "|17061253| Ethos Vegan Kitchen|       $|                0|Orlando|       216|   4.4|    []|            NULL|\n",
      "|17061296|Pom Pom's Teahous...|       $|                0|Orlando|       216|   4.9|    []|            NULL|\n",
      "|17061205|     Yellow Dog Eats|       $|                0|Orlando|       216|   4.9|    []|            NULL|\n",
      "|17057397|              'Ohana|       $|                0|Orlando|       216|   4.5|    []|            NULL|\n",
      "+--------+--------------------+--------+-----------------+-------+----------+------+------+----------------+\n",
      "only showing top 20 rows\n",
      "\n"
     ]
    }
   ],
   "source": [
    "# we are not getting any data because, offers has array containing only NULLs. \n",
    "#if explode sees an element in array as NULL, it will ignore it, hence as every row has NULL array for offers, no row is present in output\n",
    "# we can use explode_outer to solve this problem\n",
    "from pyspark.sql.functions import explode_outer\n",
    "res_data1.select('*',explode_outer('offers').alias('Offers_newcolumn')).show()\n",
    "\n",
    "#now we are getting data"
   ]
  }
 ],
 "metadata": {
  "kernelspec": {
   "display_name": "Python 3 (ipykernel)",
   "language": "python",
   "name": "python3"
  },
  "language_info": {
   "codemirror_mode": {
    "name": "ipython",
    "version": 3
   },
   "file_extension": ".py",
   "mimetype": "text/x-python",
   "name": "python",
   "nbconvert_exporter": "python",
   "pygments_lexer": "ipython3",
   "version": "3.11.5"
  }
 },
 "nbformat": 4,
 "nbformat_minor": 5
}
