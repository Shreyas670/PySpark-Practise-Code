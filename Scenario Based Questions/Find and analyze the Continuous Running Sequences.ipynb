{
 "cells": [
  {
   "cell_type": "markdown",
   "id": "4f59c346",
   "metadata": {},
   "source": [
    "https://www.youtube.com/watch?v=KxAzKh-xU7Y"
   ]
  },
  {
   "cell_type": "code",
   "execution_count": 1,
   "id": "78d2055d",
   "metadata": {},
   "outputs": [],
   "source": [
    "import findspark\n",
    "findspark.init()\n",
    "\n",
    "from pyspark.sql import SparkSession\n",
    "\n",
    "spark=SparkSession.builder.appName(\"Cols\").master(\"local[*]\").getOrCreate()"
   ]
  },
  {
   "cell_type": "code",
   "execution_count": 4,
   "id": "a0028784",
   "metadata": {},
   "outputs": [],
   "source": [
    "data = [['2023-01-01'], \n",
    "['2023-01-02'], \n",
    "['2023-01-03'], \n",
    "['2023-01-04'] ,\n",
    "['2023-01-07'],\n",
    "['2023-01-10'], \n",
    "['2023-01-11'], \n",
    "['2023-01-12'],\n",
    "['2023-01-15']]\n",
    "\n",
    "df = spark.createDataFrame(data,['Date_Given'])"
   ]
  },
  {
   "cell_type": "code",
   "execution_count": 13,
   "id": "857df35b",
   "metadata": {},
   "outputs": [
    {
     "name": "stdout",
     "output_type": "stream",
     "text": [
      "root\n",
      " |-- dateg: date (nullable = true)\n",
      "\n"
     ]
    }
   ],
   "source": [
    "import pyspark.sql.functions as F\n",
    "df1 = df.select(F.to_date(df.Date_Given,'yyyy-MM-dd').alias('dateg'))\n",
    "df1.printSchema()"
   ]
  },
  {
   "cell_type": "code",
   "execution_count": 14,
   "id": "29d6f29a",
   "metadata": {},
   "outputs": [
    {
     "name": "stdout",
     "output_type": "stream",
     "text": [
      "+----------+\n",
      "|     dateg|\n",
      "+----------+\n",
      "|2023-01-01|\n",
      "|2023-01-02|\n",
      "|2023-01-03|\n",
      "|2023-01-04|\n",
      "|2023-01-07|\n",
      "|2023-01-10|\n",
      "|2023-01-11|\n",
      "|2023-01-12|\n",
      "|2023-01-15|\n",
      "+----------+\n",
      "\n"
     ]
    }
   ],
   "source": [
    "df1.show()"
   ]
  },
  {
   "cell_type": "code",
   "execution_count": 15,
   "id": "378bced8",
   "metadata": {},
   "outputs": [
    {
     "name": "stdout",
     "output_type": "stream",
     "text": [
      "+----------+----------+\n",
      "|     dateg|     group|\n",
      "+----------+----------+\n",
      "|2023-01-01|2022-12-31|\n",
      "|2023-01-02|2022-12-31|\n",
      "|2023-01-03|2022-12-31|\n",
      "|2023-01-04|2022-12-31|\n",
      "|2023-01-07|2023-01-02|\n",
      "|2023-01-10|2023-01-04|\n",
      "|2023-01-11|2023-01-04|\n",
      "|2023-01-12|2023-01-04|\n",
      "|2023-01-15|2023-01-06|\n",
      "+----------+----------+\n",
      "\n"
     ]
    }
   ],
   "source": [
    "#now we need to group the continuos values together, after which we can select the min and max of those continuos dates to get the start and end date\n",
    "\n",
    "#to do that if we subtract continus dates by continous integers, we will get the same output.\n",
    "# for ex if we subtract 6,7,8 by 1,2,3 we will get answer as 5 in all three case. We will use this to group continuous dates\n",
    "from pyspark.sql.window import Window\n",
    "window_spec = Window.orderBy('dateg')\n",
    "df2 = df1.withColumn('group', df1.dateg - F.row_number().over(window_spec))\n",
    "df2.show()\n"
   ]
  },
  {
   "cell_type": "code",
   "execution_count": 18,
   "id": "ff9355ff",
   "metadata": {},
   "outputs": [
    {
     "name": "stdout",
     "output_type": "stream",
     "text": [
      "+----------+----------+\n",
      "|start_date|  end_date|\n",
      "+----------+----------+\n",
      "|2023-01-01|2023-01-04|\n",
      "|2023-01-07|2023-01-07|\n",
      "|2023-01-10|2023-01-12|\n",
      "|2023-01-15|2023-01-15|\n",
      "+----------+----------+\n",
      "\n"
     ]
    }
   ],
   "source": [
    "#after we got same output group date values for the continuos date, we will get the min and max as start and end date\n",
    "df3 = df2.groupBy(df2.group).agg(F.min('dateg').alias('start_date'), F.max('dateg').alias('end_date') ).drop('group')\n",
    "df3.show()"
   ]
  },
  {
   "cell_type": "code",
   "execution_count": null,
   "id": "b08f5caa",
   "metadata": {},
   "outputs": [],
   "source": []
  }
 ],
 "metadata": {
  "kernelspec": {
   "display_name": "Python 3 (ipykernel)",
   "language": "python",
   "name": "python3"
  },
  "language_info": {
   "codemirror_mode": {
    "name": "ipython",
    "version": 3
   },
   "file_extension": ".py",
   "mimetype": "text/x-python",
   "name": "python",
   "nbconvert_exporter": "python",
   "pygments_lexer": "ipython3",
   "version": "3.11.5"
  }
 },
 "nbformat": 4,
 "nbformat_minor": 5
}
