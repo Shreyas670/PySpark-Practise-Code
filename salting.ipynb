{
 "cells": [
  {
   "cell_type": "code",
   "execution_count": 1,
   "id": "af2de7ea-9d63-4bb1-8694-a6091f543532",
   "metadata": {
    "tags": []
   },
   "outputs": [],
   "source": [
    "from pyspark.sql import SparkSession\n",
    "import pyspark.sql.functions as F\n",
    "from pyspark.sql.types import *\n",
    "\n",
    "spark = SparkSession.builder.appName(\"salting\").master(\"local[*]\").getOrCreate()"
   ]
  },
  {
   "cell_type": "code",
   "execution_count": 2,
   "id": "01fca6b1-1f5e-49b5-9779-33317ebe1fd9",
   "metadata": {
    "tags": []
   },
   "outputs": [],
   "source": [
    "spark.conf.set(\"spark.sql.adaptive.enabled\",False)\n",
    "spark.conf.set(\"spark.sql.shuffle.partitions\",3)"
   ]
  },
  {
   "cell_type": "markdown",
   "id": "0c6ef77d-b9e3-414a-b09d-d1ad012df126",
   "metadata": {},
   "source": [
    "# Simulating Skewed Join"
   ]
  },
  {
   "cell_type": "code",
   "execution_count": 4,
   "id": "0ee179ab-e8a4-4efd-9802-b49c8d43731b",
   "metadata": {
    "tags": []
   },
   "outputs": [
    {
     "name": "stdout",
     "output_type": "stream",
     "text": [
      "+-----+\n",
      "|value|\n",
      "+-----+\n",
      "|0    |\n",
      "|0    |\n",
      "|0    |\n",
      "|0    |\n",
      "|0    |\n",
      "+-----+\n",
      "only showing top 5 rows\n",
      "\n"
     ]
    }
   ],
   "source": [
    "# Create skewed dataframe\n",
    "df0 = spark.createDataFrame([0] * 999990, IntegerType()).repartition(1)\n",
    "df1 = spark.createDataFrame([1] * 15, IntegerType()).repartition(1)\n",
    "df2 = spark.createDataFrame([2] * 10, IntegerType()).repartition(1)\n",
    "df3 = spark.createDataFrame([3] * 5, IntegerType()).repartition(1)\n",
    "df_skew = df0.union(df1).union(df2).union(df3)\n",
    "df_skew.show(5, False)"
   ]
  },
  {
   "cell_type": "code",
   "execution_count": 5,
   "id": "022361b2-c01f-4b6a-95ad-11ed7c1c36a2",
   "metadata": {
    "tags": []
   },
   "outputs": [
    {
     "name": "stdout",
     "output_type": "stream",
     "text": [
      "+---------+------+\n",
      "|partition| count|\n",
      "+---------+------+\n",
      "|        0|999990|\n",
      "|        1|    15|\n",
      "|        2|    10|\n",
      "|        3|     5|\n",
      "+---------+------+\n",
      "\n"
     ]
    }
   ],
   "source": [
    "# Lets check how data is distributed across partitions\n",
    "(\n",
    "    df_skew\n",
    "    .withColumn(\"partition\", F.spark_partition_id())\n",
    "    .groupBy(\"partition\")\n",
    "    .count()\n",
    "    .orderBy(\"partition\")\n",
    "    .show()\n",
    ")\n",
    "\n",
    "# we can see that partition 0 contains a lot more records compared to other partitions indicating data skew"
   ]
  },
  {
   "cell_type": "code",
   "execution_count": 6,
   "id": "a5f0b0ca-f1f3-4bb8-9a87-8c19d5b5586c",
   "metadata": {
    "tags": []
   },
   "outputs": [
    {
     "name": "stdout",
     "output_type": "stream",
     "text": [
      "+-----+\n",
      "|value|\n",
      "+-----+\n",
      "|0    |\n",
      "|1    |\n",
      "|2    |\n",
      "|3    |\n",
      "|4    |\n",
      "+-----+\n",
      "only showing top 5 rows\n",
      "\n"
     ]
    }
   ],
   "source": [
    "# create a uniform dataframe to perform a join\n",
    "df_uniform = spark.createDataFrame([i for i in range(1000000)], IntegerType())\n",
    "df_uniform.show(5, False)"
   ]
  },
  {
   "cell_type": "code",
   "execution_count": 9,
   "id": "7f2908e9-f35f-495a-a2fa-aff6cc6f871e",
   "metadata": {
    "tags": []
   },
   "outputs": [],
   "source": [
    "# Now to see how the skewed data affects join\n",
    "df_joined_c1 = df_skew.join(df_uniform, \"value\",\"inner\")"
   ]
  },
  {
   "cell_type": "code",
   "execution_count": 10,
   "id": "f3dc39aa-e637-4755-9e2b-b638aa322d7f",
   "metadata": {
    "tags": []
   },
   "outputs": [
    {
     "name": "stdout",
     "output_type": "stream",
     "text": [
      "+---------+-------+\n",
      "|partition|count  |\n",
      "+---------+-------+\n",
      "|0        |1000005|\n",
      "|1        |15     |\n",
      "+---------+-------+\n",
      "\n"
     ]
    }
   ],
   "source": [
    "# Lets check how data is distributed across partitions after join\n",
    "(\n",
    "    df_joined_c1\n",
    "    .withColumn(\"partition\", F.spark_partition_id())\n",
    "    .groupBy(\"partition\")\n",
    "    .count()\n",
    "    .show(5, False)\n",
    ")\n",
    "\n",
    "# we can see that "
   ]
  },
  {
   "cell_type": "markdown",
   "id": "6560af3d-e54d-48fc-8e70-df9157c2eb0d",
   "metadata": {},
   "source": [
    "# Simulating Uniform Distribution Through Salting"
   ]
  },
  {
   "cell_type": "code",
   "execution_count": 13,
   "id": "931c8fd9-285d-46c9-a6c5-a5e810a80034",
   "metadata": {
    "tags": []
   },
   "outputs": [],
   "source": [
    "#Lets define a salt number\n",
    "SALT_NUMBER = 3"
   ]
  },
  {
   "cell_type": "code",
   "execution_count": 14,
   "id": "0ca3f405-de2e-4e0f-922f-beeb14caf428",
   "metadata": {
    "tags": []
   },
   "outputs": [
    {
     "name": "stdout",
     "output_type": "stream",
     "text": [
      "+-----+----+\n",
      "|value|salt|\n",
      "+-----+----+\n",
      "|0    |2   |\n",
      "|0    |1   |\n",
      "|0    |0   |\n",
      "|0    |2   |\n",
      "|0    |0   |\n",
      "|0    |0   |\n",
      "|0    |1   |\n",
      "|0    |2   |\n",
      "|0    |2   |\n",
      "|0    |0   |\n",
      "+-----+----+\n",
      "only showing top 10 rows\n",
      "\n"
     ]
    }
   ],
   "source": [
    "# lets create new column with the salt value\n",
    "df_skew = df_skew.withColumn(\"salt\", (F.rand() * SALT_NUMBER).cast(\"int\"))\n",
    "df_skew.show(10, truncate=False)"
   ]
  },
  {
   "cell_type": "code",
   "execution_count": 15,
   "id": "e7a0ad68-9cdf-4138-8a79-4e435dadaa7a",
   "metadata": {
    "tags": []
   },
   "outputs": [
    {
     "name": "stdout",
     "output_type": "stream",
     "text": [
      "+-----+-----------+----+\n",
      "|value|salt_values|salt|\n",
      "+-----+-----------+----+\n",
      "|0    |[0, 1, 2]  |0   |\n",
      "|0    |[0, 1, 2]  |1   |\n",
      "|0    |[0, 1, 2]  |2   |\n",
      "|1    |[0, 1, 2]  |0   |\n",
      "|1    |[0, 1, 2]  |1   |\n",
      "|1    |[0, 1, 2]  |2   |\n",
      "|2    |[0, 1, 2]  |0   |\n",
      "|2    |[0, 1, 2]  |1   |\n",
      "|2    |[0, 1, 2]  |2   |\n",
      "|3    |[0, 1, 2]  |0   |\n",
      "+-----+-----------+----+\n",
      "only showing top 10 rows\n",
      "\n"
     ]
    }
   ],
   "source": [
    "# We have to explode the other joining dataframe with salt values\n",
    "df_uniform = (\n",
    "    df_uniform\n",
    "    .withColumn(\"salt_values\", F.array([F.lit(i) for i in range(SALT_NUMBER)]))\n",
    "    .withColumn(\"salt\", F.explode(F.col(\"salt_values\")))\n",
    ")\n",
    "df_uniform.show(10, truncate=False)"
   ]
  },
  {
   "cell_type": "code",
   "execution_count": 17,
   "id": "c6195839-334d-455c-badf-df0439e3d5b7",
   "metadata": {
    "tags": []
   },
   "outputs": [],
   "source": [
    "# now lets join the dataframes\n",
    "# we have join including the salt column as well\n",
    "df_joined = df_skew.join(df_uniform, [\"value\", \"salt\"], 'inner')"
   ]
  },
  {
   "cell_type": "code",
   "execution_count": 18,
   "id": "a5f5a702-61c7-42ab-b718-5ac2492c9482",
   "metadata": {
    "tags": []
   },
   "outputs": [
    {
     "name": "stdout",
     "output_type": "stream",
     "text": [
      "+-----+---------+------+\n",
      "|value|partition| count|\n",
      "+-----+---------+------+\n",
      "|    0|        0|333447|\n",
      "|    0|        1|333538|\n",
      "|    0|        2|333005|\n",
      "|    1|        0|     3|\n",
      "|    1|        1|    12|\n",
      "|    2|        0|     4|\n",
      "|    2|        1|     4|\n",
      "|    2|        2|     2|\n",
      "|    3|        0|     1|\n",
      "|    3|        1|     3|\n",
      "|    3|        2|     1|\n",
      "+-----+---------+------+\n",
      "\n"
     ]
    }
   ],
   "source": [
    "# Lets see the distribution across partitions after joining salted data\n",
    "(\n",
    "    df_joined\n",
    "    .withColumn(\"partition\", F.spark_partition_id())\n",
    "    .groupBy(\"value\", \"partition\")\n",
    "    .count()\n",
    "    .orderBy(\"value\", \"partition\")\n",
    "    .show()\n",
    ")\n",
    "\n",
    "# We see that the hot value is not distributed across 3 partitions (salt_number)"
   ]
  },
  {
   "cell_type": "markdown",
   "id": "d27c99f8-95f7-4e89-bfa7-7a61d9947fdc",
   "metadata": {},
   "source": [
    "# Salting In Aggregations"
   ]
  },
  {
   "cell_type": "code",
   "execution_count": 19,
   "id": "cdf66c8a-5949-4693-9c8e-030dcfa2a0eb",
   "metadata": {
    "tags": []
   },
   "outputs": [
    {
     "name": "stdout",
     "output_type": "stream",
     "text": [
      "+-----+------+\n",
      "|value| count|\n",
      "+-----+------+\n",
      "|    0|999990|\n",
      "|    2|    10|\n",
      "|    3|     5|\n",
      "|    1|    15|\n",
      "+-----+------+\n",
      "\n"
     ]
    }
   ],
   "source": [
    "# Lets try group by on skewed data without salting\n",
    "df_skew.groupBy(\"value\").count().show()"
   ]
  },
  {
   "cell_type": "code",
   "execution_count": 23,
   "id": "9f02388a-87a8-4f17-8192-a3db9d34105f",
   "metadata": {
    "tags": []
   },
   "outputs": [
    {
     "name": "stdout",
     "output_type": "stream",
     "text": [
      "+-----+------+\n",
      "|value| count|\n",
      "+-----+------+\n",
      "|    0|999990|\n",
      "|    2|    10|\n",
      "|    3|     5|\n",
      "|    1|    15|\n",
      "+-----+------+\n",
      "\n"
     ]
    }
   ],
   "source": [
    "# Lets try it on salted data.\n",
    "# First we need to group by on both value and salt, then remove the salt and again group by on value to get final result\n",
    "(\n",
    "    df_skew\n",
    "    .withColumn(\"salt\", (F.rand() * SALT_NUMBER).cast(\"int\"))\n",
    "    .groupBy(\"value\", \"salt\")\n",
    "    .agg(F.count(\"value\").alias(\"count\"))\n",
    "    .groupBy(\"value\")\n",
    "    .agg(F.sum(\"count\").alias(\"count\"))\n",
    "    .show()\n",
    ")"
   ]
  },
  {
   "cell_type": "code",
   "execution_count": 24,
   "id": "2822438f-3b97-4ce7-99c1-9a1fe6b760b7",
   "metadata": {
    "tags": []
   },
   "outputs": [],
   "source": [
    "spark.stop()"
   ]
  }
 ],
 "metadata": {
  "kernelspec": {
   "display_name": "Python 3 (ipykernel)",
   "language": "python",
   "name": "python3"
  },
  "language_info": {
   "codemirror_mode": {
    "name": "ipython",
    "version": 3
   },
   "file_extension": ".py",
   "mimetype": "text/x-python",
   "name": "python",
   "nbconvert_exporter": "python",
   "pygments_lexer": "ipython3",
   "version": "3.7.17"
  }
 },
 "nbformat": 4,
 "nbformat_minor": 5
}
