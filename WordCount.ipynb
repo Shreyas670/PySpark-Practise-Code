{
 "cells": [
  {
   "cell_type": "code",
   "execution_count": 1,
   "id": "f02fa0f4-ae13-4931-8844-ef1f03cf1922",
   "metadata": {
    "tags": []
   },
   "outputs": [],
   "source": [
    "from pyspark.sql import SparkSession\n",
    "\n",
    "import pyspark.sql.functions as F\n",
    "import pyspark.sql.types as T\n",
    "\n",
    "spark = SparkSession.builder.appName(\"wordcount\").master(\"local[*]\").getOrCreate()"
   ]
  },
  {
   "cell_type": "code",
   "execution_count": 2,
   "id": "69163612-66ca-49ad-bd61-780912f9f5b0",
   "metadata": {
    "tags": []
   },
   "outputs": [
    {
     "name": "stdout",
     "output_type": "stream",
     "text": [
      "+-------------------------------------------------+\n",
      "|value                                            |\n",
      "+-------------------------------------------------+\n",
      "|Hello Spark, this is a sample file.              |\n",
      "|This file is for practicing Spark RDD operations.|\n",
      "|Spark is powerful and Spark is fast.             |\n",
      "|We will count all the words in this file.        |\n",
      "|This is a simple example.                        |\n",
      "+-------------------------------------------------+\n",
      "only showing top 5 rows\n",
      "\n"
     ]
    }
   ],
   "source": [
    "df = spark.read.text(\"sample.txt\")\n",
    "df.show(5, False)"
   ]
  },
  {
   "cell_type": "code",
   "execution_count": 3,
   "id": "b4d3193d-d9fc-4aed-82b4-c0f471247b7b",
   "metadata": {
    "tags": []
   },
   "outputs": [
    {
     "name": "stdout",
     "output_type": "stream",
     "text": [
      "+--------------------+\n",
      "|               value|\n",
      "+--------------------+\n",
      "|Hello Spark, this...|\n",
      "|This file is for ...|\n",
      "|Spark is powerful...|\n",
      "|We will count all...|\n",
      "|This is a simple ...|\n",
      "+--------------------+\n",
      "only showing top 5 rows\n",
      "\n"
     ]
    }
   ],
   "source": [
    "df2 = df.withColumn(\"value_new\",F.split(\"value\",' '))\\\n",
    "        .withColumn(\"all\", F.explode(\"value_new\"))\n",
    "df.show(5)"
   ]
  },
  {
   "cell_type": "code",
   "execution_count": 4,
   "id": "1396e3f1-59c1-4d6f-abf0-f898f36afc18",
   "metadata": {
    "tags": []
   },
   "outputs": [
    {
     "name": "stdout",
     "output_type": "stream",
     "text": [
      "+-----+\n",
      "|words|\n",
      "+-----+\n",
      "|Hello|\n",
      "|Spark|\n",
      "| this|\n",
      "|   is|\n",
      "|    a|\n",
      "+-----+\n",
      "only showing top 5 rows\n",
      "\n"
     ]
    }
   ],
   "source": [
    "df3 =df2.select(F.regexp_replace(\"all\",\"[^A-Za-z0-9]\",\"\").alias(\"words\"))\n",
    "df3.show(5)"
   ]
  },
  {
   "cell_type": "code",
   "execution_count": 5,
   "id": "33be76c0-f8ed-404e-99ce-d5b3722df3d3",
   "metadata": {
    "tags": []
   },
   "outputs": [
    {
     "name": "stdout",
     "output_type": "stream",
     "text": [
      "+----------+-----+\n",
      "|     words|count|\n",
      "+----------+-----+\n",
      "|        is|    5|\n",
      "|     Spark|    5|\n",
      "|      file|    3|\n",
      "|    simple|    3|\n",
      "|         a|    2|\n",
      "|     Hello|    2|\n",
      "|      This|    2|\n",
      "|      this|    2|\n",
      "|   example|    2|\n",
      "|practicing|    1|\n",
      "|      will|    1|\n",
      "|       for|    1|\n",
      "|     count|    1|\n",
      "|         A|    1|\n",
      "|  powerful|    1|\n",
      "|     words|    1|\n",
      "|       RDD|    1|\n",
      "|      fast|    1|\n",
      "|       the|    1|\n",
      "|        in|    1|\n",
      "+----------+-----+\n",
      "only showing top 20 rows\n",
      "\n"
     ]
    }
   ],
   "source": [
    "df3.groupBy(\"words\").count().orderBy(F.col(\"count\").desc()).show()"
   ]
  },
  {
   "cell_type": "code",
   "execution_count": 6,
   "id": "37da3c9c-0350-4e6d-b91f-5546da1e8929",
   "metadata": {
    "tags": []
   },
   "outputs": [],
   "source": [
    "spark.stop()"
   ]
  },
  {
   "cell_type": "markdown",
   "id": "da22f6ef-03f0-456e-ba63-110ca44be9cc",
   "metadata": {},
   "source": [
    "# Using rdd"
   ]
  },
  {
   "cell_type": "code",
   "execution_count": 8,
   "id": "ff211d9e-981a-416c-9dc7-13e241f866e7",
   "metadata": {
    "tags": []
   },
   "outputs": [],
   "source": [
    "spark = SparkSession.builder.appName(\"wordcount\").master(\"local[*]\").getOrCreate()\n",
    "sc = spark.sparkContext"
   ]
  },
  {
   "cell_type": "code",
   "execution_count": 9,
   "id": "736b1a22-7059-45de-ab24-27d326700a48",
   "metadata": {
    "tags": []
   },
   "outputs": [
    {
     "data": {
      "text/plain": [
       "['Hello Spark, this is a sample file.',\n",
       " 'This file is for practicing Spark RDD operations.',\n",
       " 'Spark is powerful and Spark is fast.',\n",
       " 'We will count all the words in this file.',\n",
       " 'This is a simple example.',\n",
       " 'A simple, simple example.',\n",
       " 'Hello again, Spark.']"
      ]
     },
     "execution_count": 9,
     "metadata": {},
     "output_type": "execute_result"
    }
   ],
   "source": [
    "rdd = sc.textFile(\"sample.txt\")\n",
    "rdd.collect()"
   ]
  },
  {
   "cell_type": "code",
   "execution_count": 12,
   "id": "cb7c93a3-a1db-48f3-88ed-5e194de598eb",
   "metadata": {
    "tags": []
   },
   "outputs": [
    {
     "data": {
      "text/plain": [
       "['Hello', 'Spark,', 'this', 'is', 'a', 'sample', 'file.', 'This', 'file', 'is']"
      ]
     },
     "execution_count": 12,
     "metadata": {},
     "output_type": "execute_result"
    }
   ],
   "source": [
    "rdd1 = rdd.flatMap(lambda x: x.split(' '))\n",
    "rdd1.take(10)"
   ]
  },
  {
   "cell_type": "code",
   "execution_count": 13,
   "id": "7976ae35-fa35-489c-a42a-18e5e4602a00",
   "metadata": {
    "tags": []
   },
   "outputs": [
    {
     "data": {
      "text/plain": [
       "[('Hello', 1), ('Spark,', 1), ('this', 1), ('is', 1), ('a', 1)]"
      ]
     },
     "execution_count": 13,
     "metadata": {},
     "output_type": "execute_result"
    }
   ],
   "source": [
    "rdd2 = rdd1.map(lambda x: (x,1))\n",
    "rdd2.take(5)"
   ]
  },
  {
   "cell_type": "code",
   "execution_count": 15,
   "id": "e37cfe5c-2cb3-4dab-b3f2-975deb8874cf",
   "metadata": {
    "tags": []
   },
   "outputs": [
    {
     "data": {
      "text/plain": [
       "[('Hello', 2),\n",
       " ('Spark,', 1),\n",
       " ('this', 2),\n",
       " ('is', 5),\n",
       " ('file.', 2),\n",
       " ('practicing', 1),\n",
       " ('Spark', 3),\n",
       " ('operations.', 1),\n",
       " ('count', 1),\n",
       " ('in', 1)]"
      ]
     },
     "execution_count": 15,
     "metadata": {},
     "output_type": "execute_result"
    }
   ],
   "source": [
    "rdd3 = rdd2.reduceByKey(lambda x,y:x+y)\n",
    "rdd3.take(10)"
   ]
  },
  {
   "cell_type": "code",
   "execution_count": 16,
   "id": "1480a6bc-a134-43e1-9e59-5b1e2e7e88c4",
   "metadata": {
    "tags": []
   },
   "outputs": [],
   "source": [
    "spark.stop()"
   ]
  }
 ],
 "metadata": {
  "kernelspec": {
   "display_name": "Python 3 (ipykernel)",
   "language": "python",
   "name": "python3"
  },
  "language_info": {
   "codemirror_mode": {
    "name": "ipython",
    "version": 3
   },
   "file_extension": ".py",
   "mimetype": "text/x-python",
   "name": "python",
   "nbconvert_exporter": "python",
   "pygments_lexer": "ipython3",
   "version": "3.7.17"
  }
 },
 "nbformat": 4,
 "nbformat_minor": 5
}
