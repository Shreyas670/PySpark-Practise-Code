{
 "cells": [
  {
   "cell_type": "code",
   "execution_count": 2,
   "id": "e0882aa1-cbab-438c-b7ea-6bdc4200ec62",
   "metadata": {},
   "outputs": [
    {
     "data": {
      "text/html": [
       "\n",
       "            <div>\n",
       "                <p><b>SparkSession - in-memory</b></p>\n",
       "                \n",
       "        <div>\n",
       "            <p><b>SparkContext</b></p>\n",
       "\n",
       "            <p><a href=\"http://d414f70cda69:4040\">Spark UI</a></p>\n",
       "\n",
       "            <dl>\n",
       "              <dt>Version</dt>\n",
       "                <dd><code>v3.3.0</code></dd>\n",
       "              <dt>Master</dt>\n",
       "                <dd><code>local[*]</code></dd>\n",
       "              <dt>AppName</dt>\n",
       "                <dd><code>udf</code></dd>\n",
       "            </dl>\n",
       "        </div>\n",
       "        \n",
       "            </div>\n",
       "        "
      ],
      "text/plain": [
       "<pyspark.sql.session.SparkSession at 0x7ff0077c7cd0>"
      ]
     },
     "execution_count": 2,
     "metadata": {},
     "output_type": "execute_result"
    }
   ],
   "source": [
    "from pyspark.sql import SparkSession\n",
    "\n",
    "spark = SparkSession.builder.appName('udf').master('local[*]').getOrCreate()\n",
    "\n",
    "spark"
   ]
  },
  {
   "cell_type": "code",
   "execution_count": 4,
   "id": "56a974cd-f716-454f-992f-33244ceeb9d7",
   "metadata": {},
   "outputs": [],
   "source": [
    "data = [('Shreyas',100),('John',200),('Doe',300)]\n",
    "schema_Str = \"Name String, Salary Int\"\n",
    "\n",
    "df =spark.createDataFrame(data, schema_Str)"
   ]
  },
  {
   "cell_type": "code",
   "execution_count": 5,
   "id": "57e928fb-bf6b-407f-bd1b-8dc9fd26be07",
   "metadata": {},
   "outputs": [],
   "source": [
    "# creatinG UDF\n",
    "def increment(salary):\n",
    "    return salary*1.3"
   ]
  },
  {
   "cell_type": "code",
   "execution_count": 6,
   "id": "c53cb7b0-6db8-41a6-9990-f25212649a22",
   "metadata": {},
   "outputs": [],
   "source": [
    "# register the udf\n",
    "# to use the udf in pyspark code on dataframes we need to register that to the sparksession which lets it know that this object is a udf\n",
    "\n",
    "from pyspark.sql.functions import udf\n",
    "\n",
    "increment_udf = udf(increment)"
   ]
  },
  {
   "cell_type": "code",
   "execution_count": 7,
   "id": "8a92736c-7f39-47f2-8c33-3467c109b7ab",
   "metadata": {},
   "outputs": [
    {
     "name": "stdout",
     "output_type": "stream",
     "text": [
      "+-------+------+------------------+\n",
      "|   Name|Salary|Incremented_salary|\n",
      "+-------+------+------------------+\n",
      "|Shreyas|   100|             130.0|\n",
      "|   John|   200|             260.0|\n",
      "|    Doe|   300|             390.0|\n",
      "+-------+------+------------------+\n",
      "\n"
     ]
    }
   ],
   "source": [
    "# using the udf on dataframe\n",
    "df_new = df.withColumn('Incremented_salary', increment_udf(df.Salary))\n",
    "df_new.show()"
   ]
  },
  {
   "cell_type": "code",
   "execution_count": 15,
   "id": "5affd396-ca23-4023-a530-50291acc8c32",
   "metadata": {},
   "outputs": [
    {
     "data": {
      "text/plain": [
       "<function __main__.increment(salary)>"
      ]
     },
     "execution_count": 15,
     "metadata": {},
     "output_type": "execute_result"
    }
   ],
   "source": [
    "# What if we want to use this UDF on a sparksql table/view\n",
    "# then we need to register this in a different way\n",
    "# spark.udf.register(name, funcname, returnType=StringType())\n",
    "\n",
    "spark.udf.register(\"increment_udf\", increment, \"double\")"
   ]
  },
  {
   "cell_type": "code",
   "execution_count": 16,
   "id": "b6489e4e-28bb-4ab7-b25a-cb65f7d46a82",
   "metadata": {},
   "outputs": [
    {
     "name": "stdout",
     "output_type": "stream",
     "text": [
      "+-------+------+---------------------+\n",
      "|   Name|Salary|increment_udf(Salary)|\n",
      "+-------+------+---------------------+\n",
      "|Shreyas|   100|                130.0|\n",
      "|   John|   200|                260.0|\n",
      "|    Doe|   300|                390.0|\n",
      "+-------+------+---------------------+\n",
      "\n"
     ]
    }
   ],
   "source": [
    "# we can now use this in spark sql\n",
    "df.createOrReplaceTempView(\"df_view\")\n",
    "\n",
    "spark.sql(\"select *, increment_udf(Salary) from df_view\").show()"
   ]
  },
  {
   "cell_type": "code",
   "execution_count": null,
   "id": "74f345b2-43d4-4568-8be3-71f7afa5d413",
   "metadata": {},
   "outputs": [],
   "source": []
  }
 ],
 "metadata": {
  "kernelspec": {
   "display_name": "Python 3 (ipykernel)",
   "language": "python",
   "name": "python3"
  },
  "language_info": {
   "codemirror_mode": {
    "name": "ipython",
    "version": 3
   },
   "file_extension": ".py",
   "mimetype": "text/x-python",
   "name": "python",
   "nbconvert_exporter": "python",
   "pygments_lexer": "ipython3",
   "version": "3.10.16"
  }
 },
 "nbformat": 4,
 "nbformat_minor": 5
}
