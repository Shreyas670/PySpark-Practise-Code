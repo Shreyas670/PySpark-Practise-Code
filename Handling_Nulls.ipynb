{
 "cells": [
  {
   "cell_type": "code",
   "execution_count": 1,
   "id": "203b5240-bf5b-440a-8158-9b17bb8555ca",
   "metadata": {
    "tags": []
   },
   "outputs": [],
   "source": [
    "from pyspark.sql import SparkSession\n",
    "\n",
    "import pyspark.sql.functions as F\n",
    "import pyspark.sql.types as T\n",
    "\n",
    "spark = SparkSession.builder.appName(\"nulls\").master(\"local[*]\").getOrCreate()"
   ]
  },
  {
   "cell_type": "code",
   "execution_count": 2,
   "id": "375574c8-2739-4e85-90cf-184a3173690c",
   "metadata": {
    "tags": []
   },
   "outputs": [
    {
     "name": "stdout",
     "output_type": "stream",
     "text": [
      "+---------+----+\n",
      "|     Name| Age|\n",
      "+---------+----+\n",
      "|    Alice|  30|\n",
      "|      Bob|null|\n",
      "|Catherine|  25|\n",
      "|     null|  35|\n",
      "|      Eve|null|\n",
      "+---------+----+\n",
      "\n"
     ]
    }
   ],
   "source": [
    "data = [(\"Alice\", 30), \n",
    " (\"Bob\", None), \n",
    " (\"Catherine\", 25), \n",
    " (None, 35), \n",
    " (\"Eve\", None)]\n",
    "\n",
    "columns = [\"Name\", \"Age\"]\n",
    "\n",
    "df = spark.createDataFrame(data, columns)\n",
    "df.show()"
   ]
  },
  {
   "cell_type": "markdown",
   "id": "27c87393-d57c-4172-b84b-b32d15b71a7c",
   "metadata": {},
   "source": [
    " # Dropping Null Values:"
   ]
  },
  {
   "cell_type": "code",
   "execution_count": 7,
   "id": "62b1a7d9-5183-4187-8108-e64b73e40b29",
   "metadata": {
    "tags": []
   },
   "outputs": [
    {
     "name": "stdout",
     "output_type": "stream",
     "text": [
      "+---------+---+\n",
      "|     Name|Age|\n",
      "+---------+---+\n",
      "|    Alice| 30|\n",
      "|Catherine| 25|\n",
      "+---------+---+\n",
      "\n",
      "+---------+----+\n",
      "|     Name| Age|\n",
      "+---------+----+\n",
      "|    Alice|  30|\n",
      "|      Bob|null|\n",
      "|Catherine|  25|\n",
      "|     null|  35|\n",
      "|      Eve|null|\n",
      "+---------+----+\n",
      "\n",
      "+---------+---+\n",
      "|     Name|Age|\n",
      "+---------+---+\n",
      "|    Alice| 30|\n",
      "|Catherine| 25|\n",
      "|     null| 35|\n",
      "+---------+---+\n",
      "\n"
     ]
    }
   ],
   "source": [
    "# We can use df.na.drop() function to drop rows containing one or more null values\n",
    "df.na.drop().show()\n",
    "\n",
    "# We can also drop rows only if all columns contains nulls\n",
    "df.na.drop(how=\"all\").show()\n",
    "\n",
    "# We can also drop rows where only mentioned columns contains nulls\n",
    "df.na.drop(subset=[\"Age\"]).show()"
   ]
  },
  {
   "cell_type": "markdown",
   "id": "e3c2c210-516d-478f-9101-dbf6a833d819",
   "metadata": {},
   "source": [
    "# Filling Null Values\n",
    "df.na.fill(value): Replaces all null values in the DataFrame with a specified value. Spark automatically infers the data type for replacement.                                                                        \n",
    "df.na.fill(value, subset=['column1']): Replaces null values in a specific column with a value.                                                                                                  \n",
    "df.na.fill({'column1': value1, 'column2': value2}): Fills nulls in different columns with different values using a dictionary."
   ]
  },
  {
   "cell_type": "code",
   "execution_count": 8,
   "id": "bdbdb636-906d-41ed-bb3d-46a9def590d2",
   "metadata": {
    "tags": []
   },
   "outputs": [
    {
     "name": "stdout",
     "output_type": "stream",
     "text": [
      "+---------+----+\n",
      "|     Name| Age|\n",
      "+---------+----+\n",
      "|    Alice|  30|\n",
      "|      Bob|null|\n",
      "|Catherine|  25|\n",
      "|       yo|  35|\n",
      "|      Eve|null|\n",
      "+---------+----+\n",
      "\n"
     ]
    }
   ],
   "source": [
    "# fill any value in any row or column\n",
    "df.na.fill(\"yo\").show()"
   ]
  },
  {
   "cell_type": "code",
   "execution_count": 13,
   "id": "1e753835-9c56-48ab-a884-0103eda8a2cd",
   "metadata": {
    "tags": []
   },
   "outputs": [
    {
     "name": "stdout",
     "output_type": "stream",
     "text": [
      "+---------+----+\n",
      "|     Name| Age|\n",
      "+---------+----+\n",
      "|    Alice|  30|\n",
      "|      Bob|null|\n",
      "|Catherine|  25|\n",
      "|     null|  35|\n",
      "|      Eve|null|\n",
      "+---------+----+\n",
      "\n",
      "+---------+---+\n",
      "|     Name|Age|\n",
      "+---------+---+\n",
      "|    Alice| 30|\n",
      "|      Bob|999|\n",
      "|Catherine| 25|\n",
      "|       yo| 35|\n",
      "|      Eve|999|\n",
      "+---------+---+\n",
      "\n"
     ]
    }
   ],
   "source": [
    "# fill only a particular subset of columns\n",
    "df.na.fill(\"yo\",subset=[\"Age\"]).show()\n",
    "# AS this is a int column, we can't fill it with yo\n",
    "\n",
    "# We can also specify what needs to be filled in each column\n",
    "df.na.fill({'Name': \"yo\", 'Age': 999}).show()"
   ]
  },
  {
   "cell_type": "markdown",
   "id": "d7e00d14-493d-43a8-8fbd-93e9b5bfa757",
   "metadata": {},
   "source": [
    "# Filtering Null Values:\n",
    "Use where or filter with isNotNull() or isNull() to select rows based on null presence."
   ]
  },
  {
   "cell_type": "code",
   "execution_count": 16,
   "id": "4e565c1b-00f0-4010-86cb-fef8b5bca9a4",
   "metadata": {
    "tags": []
   },
   "outputs": [
    {
     "name": "stdout",
     "output_type": "stream",
     "text": [
      "+----+----+\n",
      "|Name| Age|\n",
      "+----+----+\n",
      "| Bob|null|\n",
      "| Eve|null|\n",
      "+----+----+\n",
      "\n",
      "+---------+---+\n",
      "|     Name|Age|\n",
      "+---------+---+\n",
      "|    Alice| 30|\n",
      "|Catherine| 25|\n",
      "|     null| 35|\n",
      "+---------+---+\n",
      "\n"
     ]
    }
   ],
   "source": [
    "df.where(df.Age.isNull()).show()\n",
    "\n",
    "df.where(df.Age.isNotNull()).show()"
   ]
  },
  {
   "cell_type": "code",
   "execution_count": 17,
   "id": "0168c35f-b9e3-47db-92d7-5dae5b35ec74",
   "metadata": {
    "tags": []
   },
   "outputs": [],
   "source": [
    "spark.stop()"
   ]
  }
 ],
 "metadata": {
  "kernelspec": {
   "display_name": "Python 3 (ipykernel)",
   "language": "python",
   "name": "python3"
  },
  "language_info": {
   "codemirror_mode": {
    "name": "ipython",
    "version": 3
   },
   "file_extension": ".py",
   "mimetype": "text/x-python",
   "name": "python",
   "nbconvert_exporter": "python",
   "pygments_lexer": "ipython3",
   "version": "3.7.17"
  }
 },
 "nbformat": 4,
 "nbformat_minor": 5
}
